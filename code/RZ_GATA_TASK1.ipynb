{
 "cells": [
  {
   "cell_type": "code",
   "execution_count": 51,
   "metadata": {
    "id": "ZocX7gXPgX6G"
   },
   "outputs": [],
   "source": [
    "\"\"\"\n",
    "**********************************************************\n",
    "* This jupyter file (gata_task1_RZ) is for categorizing  *\n",
    "* numbers and alphabets (binary classifire).\n",
    "* at first it re-order the directory of data in order to *\n",
    "* be consistene to datagenerator in tensorflow           *\n",
    "* after creating model, train it and calculate EER.      *\n",
    "* also save model to use in another code (InferenceClass)*\n",
    "* interface class is in last cell(.py is sended too)     *\n",
    "*              by Rasoul Zamani  (01/03)                 *  \n",
    "**********************************************************\n",
    "\"\"\"\n",
    "\n",
    "# Hint :\n",
    "# this jupiter notebook is written for colab in chrome, so if you want to run\n",
    "# it in local system or safari browser, maybe you will need some costumization!\n",
    "\n",
    "# importing necessary libs\n",
    "import os\n",
    "import shutil\n",
    "import time\n",
    "import zipfile\n",
    "import random\n",
    "\n",
    "import numpy as np\n",
    "import tensorflow as tf\n",
    "\n",
    "from sklearn import metrics\n",
    "import matplotlib.pyplot as plt\n",
    "from tensorflow.keras.preprocessing.image import ImageDataGenerator, array_to_img, load_img"
   ]
  },
  {
   "cell_type": "code",
   "execution_count": 52,
   "metadata": {
    "colab": {
     "base_uri": "https://localhost:8080/"
    },
    "id": "tFZdF1bggvJE",
    "outputId": "71ca04fc-2eb9-48a0-e80f-ac56d0ae0eb2"
   },
   "outputs": [
    {
     "name": "stdout",
     "output_type": "stream",
     "text": [
      "Downloading...\n",
      "From: https://drive.google.com/uc?id=1fRXwxlbOTgMsMtFTBZyCA8kGtuu7BnOn\n",
      "To: /content/alphaNumeric.zip\n",
      "\r",
      "  0% 0.00/17.9M [00:00<?, ?B/s]\r",
      " 26% 4.72M/17.9M [00:00<00:00, 35.4MB/s]\r",
      "100% 17.9M/17.9M [00:00<00:00, 109MB/s] \n"
     ]
    }
   ],
   "source": [
    "# downloading  dataset\n",
    "!gdown 1fRXwxlbOTgMsMtFTBZyCA8kGtuu7BnOn"
   ]
  },
  {
   "cell_type": "code",
   "execution_count": 53,
   "metadata": {
    "colab": {
     "base_uri": "https://localhost:8080/"
    },
    "id": "5P3taFkbhRpS",
    "outputId": "aefb8565-c8d3-4279-e9a4-ad5178ee2787"
   },
   "outputs": [
    {
     "name": "stdout",
     "output_type": "stream",
     "text": [
      "Maybe you want to check directory address to be sure!:\n",
      "current directory that code is runnig:  /content\n",
      "zip file local full address: /content/alphaNumeric.zip\n",
      "dataset directory: /content/dataset\n",
      "model directory: /content/model\n"
     ]
    }
   ],
   "source": [
    "# constants\n",
    "NUM = '0123456789'\n",
    "ALP = 'abcdefghijklmnopqrstuvwxyz'\n",
    "\n",
    "\n",
    "CURRENT_DIR = os.getcwd()\n",
    "\n",
    "ZIP_FILE_ADRS = os.path.join(CURRENT_DIR, 'alphaNumeric.zip')\n",
    "DATASET_DIR   = os.path.join(CURRENT_DIR, 'dataset')\n",
    "\n",
    "# sutable for tf.keras.ImageDataGenerator\n",
    "DATASET_DIR_TF= os.path.join(CURRENT_DIR, 'dataset_tf')\n",
    "\n",
    "# for saving model\n",
    "MODEL_DIR     = os.path.join(CURRENT_DIR, 'model')\n",
    "\n",
    "# some data for manuall test\n",
    "SAMPLES_DIR = os.path.join(CURRENT_DIR, 'sample_dir')\n",
    "\n",
    "print('Maybe you want to check directory address to be sure!:')\n",
    "print('current directory that code is runnig: ', CURRENT_DIR)\n",
    "print('zip file local full address:', ZIP_FILE_ADRS)\n",
    "print('dataset directory:', DATASET_DIR)\n",
    "print('model directory:', MODEL_DIR)"
   ]
  },
  {
   "cell_type": "code",
   "execution_count": 54,
   "metadata": {
    "id": "LBJWQTKEjzBk"
   },
   "outputs": [],
   "source": [
    "# Empty directory to prevent FileExistsError is the function is run several times\n",
    "# you can do this manually , and also if you created these directories and extracted data before, by pass this block!\n",
    "if os.path.exists(DATASET_DIR)==False:\n",
    "    # extractiong data from zip file in root/dataset directory\n",
    "    zip_ref   = zipfile.ZipFile(ZIP_FILE_ADRS, 'r')\n",
    "    zip_ref.extractall(DATASET_DIR)\n",
    "    zip_ref.close()\n",
    "    os.makedirs(DATASET_DIR)\n"
   ]
  },
  {
   "cell_type": "code",
   "execution_count": 55,
   "metadata": {
    "colab": {
     "base_uri": "https://localhost:8080/"
    },
    "id": "coFrhiaNj0rN",
    "outputId": "cfbb1071-e6af-4fff-9970-77c540208ddb"
   },
   "outputs": [
    {
     "name": "stdout",
     "output_type": "stream",
     "text": [
      "/content/dataset_tf/valid\n",
      "/content/dataset_tf/train\n",
      "/content/dataset_tf/valid/alp\n",
      "/content/dataset_tf/valid/num\n",
      "/content/dataset_tf/train/alp\n",
      "/content/dataset_tf/train/num\n"
     ]
    }
   ],
   "source": [
    "\n",
    "\"\"\"\n",
    "  Creating directories for the train and test sets in order to use in \n",
    "  tf.keras.ImageDataGenerator, i.e:\n",
    "  .\\dataset\n",
    "            \\train\n",
    "                  \\cls1\n",
    "                       img1\n",
    "                       img2\n",
    "                       .\n",
    "                       .\n",
    "                       \n",
    "                  \\cls2\n",
    "                       img1\n",
    "                       img2\n",
    "                       .\n",
    "                       .\n",
    "            \\valid\n",
    "                  \\cls1\n",
    "                       img1\n",
    "                       img2\n",
    "                       .\n",
    "                       .\n",
    "                       \n",
    "                  \\cls2\n",
    "                       img1\n",
    "                       img2\n",
    "                       .\n",
    "                       .\n",
    "\"\"\"  \n",
    "\n",
    "if os.path.exists(DATASET_DIR_TF)==False:\n",
    "    #creating dataset directory in root\n",
    "    os.makedirs(DATASET_DIR_TF)\n",
    "  \n",
    "    train_dir = os.path.join(DATASET_DIR_TF,'train')\n",
    "    train_num = os.path.join(train_dir,'num')\n",
    "    train_alp = os.path.join(train_dir,'alp')\n",
    "    valid_dir = os.path.join(DATASET_DIR_TF,'valid')\n",
    "    valid_num = os.path.join(valid_dir,'num')\n",
    "    valid_alp = os.path.join(valid_dir,'alp')\n",
    "                           \n",
    "    os.makedirs(train_dir)\n",
    "    os.makedirs(train_num)\n",
    "    os.makedirs(train_alp)\n",
    "\n",
    "    os.makedirs(valid_dir)\n",
    "    os.makedirs(valid_num)\n",
    "    os.makedirs(valid_alp)\n",
    "\n",
    "# Testing creating directories\n",
    "for rootdir, dirs, files in os.walk(DATASET_DIR_TF):\n",
    "    for subdir in dirs:\n",
    "        print(os.path.join(rootdir, subdir))"
   ]
  },
  {
   "cell_type": "code",
   "execution_count": 56,
   "metadata": {
    "id": "5RqJVmjhj3Vu"
   },
   "outputs": [],
   "source": [
    "def reorder_dirs(SOURCE_DIR, DEST_DIR):\n",
    "    \"\"\"\n",
    "    this function get source dir address, classify images in this dir and transfer them \n",
    "    to appropriate directories in destination dir based on their names\n",
    "        \n",
    "    Args:\n",
    "        SOURCE_DIR: address of directory contains images as a os.path object\n",
    "        DEST_DIR  : address of directory has sutable order for tf\n",
    "     Returns:\n",
    "        Nothing, just print number of founded images for each class (directory)\n",
    "    \"\"\"\n",
    "    num_cls_dir = os.path.join(DEST_DIR, 'num') \n",
    "    alp_cls_dir = os.path.join(DEST_DIR, 'alp')\n",
    "    img_list = os.listdir(SOURCE_DIR) # list of all images in train directory\n",
    "    num_cls_n = 0\n",
    "    alp_cls_n = 0\n",
    "    \n",
    "    for img in img_list:\n",
    "        \n",
    "        img_adrs = os.path.join(SOURCE_DIR, img) # full address of image in source\n",
    "        \n",
    "        label = img.split('_')[0]  # first part of name of image is number or letter, by split we get that in string format\n",
    "        \n",
    "        if label in NUM:\n",
    "            num_cls_n += 1\n",
    "            shutil.copyfile(img_adrs,os.path.join(num_cls_dir,img) )\n",
    "        else:\n",
    "            alp_cls_n += 1\n",
    "            shutil.copyfile(img_adrs,os.path.join(alp_cls_dir,img) )\n",
    "\n",
    "    print(f\"{num_cls_n} images founded as a num class and transfered to num directory in {DEST_DIR}\")\n",
    "    print(f\"{alp_cls_n} images founded as a alp class and transfered to alp directory in {DEST_DIR}\") "
   ]
  },
  {
   "cell_type": "code",
   "execution_count": 57,
   "metadata": {
    "colab": {
     "base_uri": "https://localhost:8080/"
    },
    "id": "kRsBLdFOmSqV",
    "outputId": "78cd0be0-c735-4b62-d7e0-3900412219b6"
   },
   "outputs": [
    {
     "name": "stdout",
     "output_type": "stream",
     "text": [
      "3330 images founded as a num class and transfered to num directory in /content/dataset_tf/train\n",
      "16650 images founded as a alp class and transfered to alp directory in /content/dataset_tf/train\n",
      "415 images founded as a num class and transfered to num directory in /content/dataset_tf/valid\n",
      "415 images founded as a alp class and transfered to alp directory in /content/dataset_tf/valid\n"
     ]
    }
   ],
   "source": [
    "# using reorder_dirs function for train dir\n",
    "reorder_dirs(os.path.join(DATASET_DIR,'train'), os.path.join(DATASET_DIR_TF,'train') )\n",
    "\n",
    "# using reorder_dirs function for valid dir\n",
    "reorder_dirs(os.path.join(DATASET_DIR,'valid'), os.path.join(DATASET_DIR_TF,'valid') )"
   ]
  },
  {
   "cell_type": "code",
   "execution_count": 58,
   "metadata": {
    "colab": {
     "base_uri": "https://localhost:8080/",
     "height": 76
    },
    "id": "7QjXJ7sgmnWd",
    "outputId": "9146a0cd-0647-4705-d09a-7d5d12588283"
   },
   "outputs": [
    {
     "data": {
      "image/png": "[encoded data removed]",
      "text/plain": [
       "<Figure size 432x288 with 10 Axes>"
      ]
     },
     "metadata": {
      "needs_background": "light"
     },
     "output_type": "display_data"
    }
   ],
   "source": [
    "# glanse at data\n",
    "img_list = os.listdir(os.path.join(DATASET_DIR,'valid')) \n",
    "img_list_shuffle = random.sample(img_list, len(img_list)) # shuffling\n",
    "for i,img in enumerate(img_list_shuffle[:10]):\n",
    "    img_adrs = os.path.join(os.path.join(DATASET_DIR,'valid'),img)\n",
    "    img = load_img(img_adrs)\n",
    "    #print(img.size)\n",
    "    #print(type(img))\n",
    "    plt.subplot(1,10,i+1)\n",
    "    plt.imshow(img)\n",
    "    plt.axis('off')\n",
    "\n",
    "# hint: imgages are in differnt size, we must resize all of them into 32,32 in next parts"
   ]
  },
  {
   "cell_type": "code",
   "execution_count": 59,
   "metadata": {
    "id": "sgNwGhgDmrSR"
   },
   "outputs": [],
   "source": [
    "def train_valid_generators(TRAIN_DIR, VALID_DIR):\n",
    "  \"\"\"\n",
    "  Creates the training and validation data generators\n",
    "  \n",
    "  Args:\n",
    "    TRAIN_DIR (os.path obj): directory path containing the training images\n",
    "    VALID_DIR (os.path obj): directory path containing the validation images\n",
    "    \n",
    "  Returns:\n",
    "    train_generator, valid_generator - tuple containing the generators\n",
    "  \"\"\"\n",
    "\n",
    "  # Instantiate the ImageDataGenerator class \n",
    "  train_datagen = ImageDataGenerator(rescale=1./255)#,\n",
    "                                    #rotation_range=30,\n",
    "                                    #width_shift_range=0.2,\n",
    "                                    #height_shift_range=0.2)\n",
    "\n",
    "  # Pass in the appropriate arguments to the flow_from_directory method\n",
    "  train_generator = train_datagen.flow_from_directory(directory=TRAIN_DIR,\n",
    "                                                      batch_size=64,\n",
    "                                                      class_mode='binary',\n",
    "                                                      target_size=(32, 32),\n",
    "                                                      color_mode='grayscale')\n",
    "\n",
    "  # Instantiate the ImageDataGenerator class \n",
    "  valid_datagen = ImageDataGenerator(\n",
    "      rescale=1./255)\n",
    "\n",
    "  # Pass in the appropriate arguments to the flow_from_directory method\n",
    "  valid_generator = valid_datagen.flow_from_directory(directory=VALID_DIR,\n",
    "                                                      batch_size=64,\n",
    "                                                      class_mode='binary',\n",
    "                                                      target_size=(32, 32),\n",
    "                                                      color_mode='grayscale' )\n",
    "  return train_generator, valid_generator\n"
   ]
  },
  {
   "cell_type": "code",
   "execution_count": 60,
   "metadata": {
    "colab": {
     "base_uri": "https://localhost:8080/"
    },
    "id": "f6F1E2D1m8X9",
    "outputId": "ed82d42d-203e-4886-e1d9-a1fe3beb7676"
   },
   "outputs": [
    {
     "name": "stdout",
     "output_type": "stream",
     "text": [
      "Found 19980 images belonging to 2 classes.\n",
      "Found 830 images belonging to 2 classes.\n"
     ]
    }
   ],
   "source": [
    "# using defined function for creating train and valid generators:\n",
    "  \n",
    "train_dir = os.path.join(DATASET_DIR_TF,'train')\n",
    "valid_dir = os.path.join(DATASET_DIR_TF,'valid')\n",
    "\n",
    "train_generator, valid_generator = train_valid_generators(TRAIN_DIR = train_dir, VALID_DIR = valid_dir )"
   ]
  },
  {
   "cell_type": "markdown",
   "metadata": {
    "id": "obl_tonwqap2"
   },
   "source": [
    "# creating ingredients (Blocks and then stages) of wanted architecture for model"
   ]
  },
  {
   "cell_type": "code",
   "execution_count": 61,
   "metadata": {
    "id": "MG8TpVRCm8pm"
   },
   "outputs": [],
   "source": [
    "def BlockA(input_shape, exp, ch_out, name='blockA'): \n",
    "    \"\"\"\n",
    "    create block A as wanted in task\n",
    "    Args:\n",
    "        input_shape: shape of input as a tuple e.g : (16,16,8)\n",
    "        exp: number of units (i.e channel number of output) will be exp * input channel number\n",
    "        ch_out: output channel number\n",
    "    return:\n",
    "        blockA_model: model that can be reuse in another (larger) model as a layer\n",
    "    \"\"\"\n",
    "    \n",
    "    blockA_input =  tf.keras.Input(shape=input_shape, name=\"blockA_input\")\n",
    "    a = tf.keras.layers.Conv2D(filters= exp * input_shape[-1], kernel_size=(1,1),\n",
    "                            padding='same', name=\"A_Conv_1by1\")(blockA_input)\n",
    "    a = tf.keras.layers.ReLU(max_value=6, name='A_relu6_conv')(a)\n",
    "    a = tf.keras.layers.DepthwiseConv2D(kernel_size=(3,3),\n",
    "                            padding='same', name=\"A_Dwise\")(a)\n",
    "    a = tf.keras.layers.ReLU(max_value=6, name='A_relu6_dwis')(a)\n",
    "    a = tf.keras.layers.Conv2D(filters=ch_out , kernel_size=(1,1),\n",
    "                            padding='same', name=\"A_Conv_1by1_end\")(a)\n",
    "    blockA_output = tf.keras.layers.add([blockA_input, a])\n",
    "    \n",
    "    BlockA_model = tf.keras.Model(inputs=blockA_input, outputs=blockA_output, name=name)\n",
    "    return BlockA_model\n"
   ]
  },
  {
   "cell_type": "code",
   "execution_count": 62,
   "metadata": {
    "colab": {
     "base_uri": "https://localhost:8080/"
    },
    "id": "8j8v9IbDm8rl",
    "outputId": "524a11c2-8787-407a-a9a7-2fe41ec33b90"
   },
   "outputs": [
    {
     "name": "stdout",
     "output_type": "stream",
     "text": [
      "Model: \"block_a\"\n",
      "__________________________________________________________________________________________________\n",
      " Layer (type)                   Output Shape         Param #     Connected to                     \n",
      "==================================================================================================\n",
      " blockA_input (InputLayer)      [(None, 2, 2, 24)]   0           []                               \n",
      "                                                                                                  \n",
      " A_Conv_1by1 (Conv2D)           (None, 2, 2, 48)     1200        ['blockA_input[0][0]']           \n",
      "                                                                                                  \n",
      " A_relu6_conv (ReLU)            (None, 2, 2, 48)     0           ['A_Conv_1by1[0][0]']            \n",
      "                                                                                                  \n",
      " A_Dwise (DepthwiseConv2D)      (None, 2, 2, 48)     480         ['A_relu6_conv[0][0]']           \n",
      "                                                                                                  \n",
      " A_relu6_dwis (ReLU)            (None, 2, 2, 48)     0           ['A_Dwise[0][0]']                \n",
      "                                                                                                  \n",
      " A_Conv_1by1_end (Conv2D)       (None, 2, 2, 24)     1176        ['A_relu6_dwis[0][0]']           \n",
      "                                                                                                  \n",
      " add_3 (Add)                    (None, 2, 2, 24)     0           ['blockA_input[0][0]',           \n",
      "                                                                  'A_Conv_1by1_end[0][0]']        \n",
      "                                                                                                  \n",
      "==================================================================================================\n",
      "Total params: 2,856\n",
      "Trainable params: 2,856\n",
      "Non-trainable params: 0\n",
      "__________________________________________________________________________________________________\n"
     ]
    }
   ],
   "source": [
    "# testing blockA\n",
    "block_a = BlockA(input_shape=(2,2,24), exp=2, ch_out=24, name='block_a')\n",
    "block_a.summary()"
   ]
  },
  {
   "cell_type": "code",
   "execution_count": 63,
   "metadata": {
    "id": "cReaShlgnaqa"
   },
   "outputs": [],
   "source": [
    "def BlockB(input_shape, exp, ch_out, name='blockB' ): \n",
    "    \"\"\"\n",
    "    create block B as wanted in task\n",
    "    Args:\n",
    "        input_shape: shape of input as a tuple e.g : (2,2,24)\n",
    "        exp: number of units (i.e channel number of output) will be exp * input channel number\n",
    "        ch_out: output channel number\n",
    "    return:\n",
    "        blockB_model: model that can be reuse in another (larger) model as a layer\n",
    "    \"\"\"\n",
    "    \n",
    "    blockB_input =  tf.keras.Input(shape=input_shape, name=\"blockB_input\")\n",
    "    b = tf.keras.layers.Conv2D(filters= exp * input_shape[-1], kernel_size=(1,1),\n",
    "                            padding='same', name=\"B_Conv_1by1\")(blockB_input)\n",
    "    b = tf.keras.layers.ReLU(max_value=6, name='B_relu6_conv')(b)\n",
    "    b = tf.keras.layers.DepthwiseConv2D(kernel_size=(3,3),\n",
    "                            padding='same', name=\"B_Dwise\")(b)\n",
    "    b = tf.keras.layers.ReLU(max_value=6, name='B_relu6_dwis')(b)\n",
    "    blockB_output = tf.keras.layers.Conv2D(filters=ch_out , kernel_size=(1,1),\n",
    "                            padding='same', name=\"B_Conv_1by1_end\")(b)\n",
    "    \n",
    "    BlockB_model = tf.keras.Model(inputs=blockB_input, outputs=blockB_output, name= name)\n",
    "    return BlockB_model"
   ]
  },
  {
   "cell_type": "code",
   "execution_count": 64,
   "metadata": {
    "colab": {
     "base_uri": "https://localhost:8080/"
    },
    "id": "MGogzU2nnghL",
    "outputId": "a8a5eec8-cab9-4f09-c699-c6ef001d2ff5"
   },
   "outputs": [
    {
     "name": "stdout",
     "output_type": "stream",
     "text": [
      "Model: \"blockB\"\n",
      "_________________________________________________________________\n",
      " Layer (type)                Output Shape              Param #   \n",
      "=================================================================\n",
      " blockB_input (InputLayer)   [(None, 2, 2, 24)]        0         \n",
      "                                                                 \n",
      " B_Conv_1by1 (Conv2D)        (None, 2, 2, 48)          1200      \n",
      "                                                                 \n",
      " B_relu6_conv (ReLU)         (None, 2, 2, 48)          0         \n",
      "                                                                 \n",
      " B_Dwise (DepthwiseConv2D)   (None, 2, 2, 48)          480       \n",
      "                                                                 \n",
      " B_relu6_dwis (ReLU)         (None, 2, 2, 48)          0         \n",
      "                                                                 \n",
      " B_Conv_1by1_end (Conv2D)    (None, 2, 2, 32)          1568      \n",
      "                                                                 \n",
      "=================================================================\n",
      "Total params: 3,248\n",
      "Trainable params: 3,248\n",
      "Non-trainable params: 0\n",
      "_________________________________________________________________\n"
     ]
    }
   ],
   "source": [
    "# testing blockB\n",
    "block_b = BlockB(input_shape=(2,2,24), exp=2, ch_out=32)\n",
    "block_b.summary()\n"
   ]
  },
  {
   "cell_type": "code",
   "execution_count": 65,
   "metadata": {
    "id": "aJq_kZ7Mnif7"
   },
   "outputs": [],
   "source": [
    "def BlockC(input_shape, exp, ch_out, name='blockC' ): \n",
    "    \"\"\"\n",
    "    create block C as wanted in task\n",
    "    Args:\n",
    "        input_shape: shape of input as a tuple e.g : (16,16,8)\n",
    "        exp: number of units (i.e channel number of output) will be exp * input channel number\n",
    "        ch_out: output channel number\n",
    "    return:\n",
    "        blockC_model: model that can be reuse in another (larger) model as a layer\n",
    "    \"\"\"\n",
    "    \n",
    "    blockC_input =  tf.keras.Input(shape=input_shape, name=\"blockC_input\")\n",
    "    c = tf.keras.layers.Conv2D(filters= exp * input_shape[-1], kernel_size=(1,1),\n",
    "                            padding='same', name=\"C_Conv_1by1\")(blockC_input)\n",
    "    c = tf.keras.layers.ReLU(max_value=6, name='C_relu6_conv')(c)\n",
    "    c = tf.keras.layers.DepthwiseConv2D(kernel_size=(3,3), strides=(2, 2),\n",
    "                            padding='same', name=\"C_Dwise\")(c)\n",
    "    c = tf.keras.layers.ReLU(max_value=6, name='C_relu6_dwis')(c)\n",
    "    blockC_output = tf.keras.layers.Conv2D(filters=ch_out , kernel_size=(1,1),\n",
    "                            padding='same', name=\"C_Conv_1by1_end\")(c)\n",
    "    \n",
    "    BlockC_model = tf.keras.Model(inputs=blockC_input, outputs=blockC_output, name=name)\n",
    "    return BlockC_model"
   ]
  },
  {
   "cell_type": "code",
   "execution_count": 66,
   "metadata": {
    "colab": {
     "base_uri": "https://localhost:8080/"
    },
    "id": "6NhxMlqgnlwM",
    "outputId": "03f50659-91fd-4a5a-a186-68d75fe4d555"
   },
   "outputs": [
    {
     "name": "stdout",
     "output_type": "stream",
     "text": [
      "Model: \"blockC\"\n",
      "_________________________________________________________________\n",
      " Layer (type)                Output Shape              Param #   \n",
      "=================================================================\n",
      " blockC_input (InputLayer)   [(None, 4, 4, 16)]        0         \n",
      "                                                                 \n",
      " C_Conv_1by1 (Conv2D)        (None, 4, 4, 32)          544       \n",
      "                                                                 \n",
      " C_relu6_conv (ReLU)         (None, 4, 4, 32)          0         \n",
      "                                                                 \n",
      " C_Dwise (DepthwiseConv2D)   (None, 2, 2, 32)          320       \n",
      "                                                                 \n",
      " C_relu6_dwis (ReLU)         (None, 2, 2, 32)          0         \n",
      "                                                                 \n",
      " C_Conv_1by1_end (Conv2D)    (None, 2, 2, 24)          792       \n",
      "                                                                 \n",
      "=================================================================\n",
      "Total params: 1,656\n",
      "Trainable params: 1,656\n",
      "Non-trainable params: 0\n",
      "_________________________________________________________________\n"
     ]
    }
   ],
   "source": [
    "# testing blockC\n",
    "block_c = BlockC(input_shape=(4,4,16), exp=2, ch_out=24)\n",
    "block_c.summary()"
   ]
  },
  {
   "cell_type": "markdown",
   "metadata": {
    "id": "LkRIMhx6n391"
   },
   "source": [
    "## **creating all ingredients of model**"
   ]
  },
  {
   "cell_type": "code",
   "execution_count": 67,
   "metadata": {
    "colab": {
     "base_uri": "https://localhost:8080/"
    },
    "id": "sPR6aSqInoAH",
    "outputId": "7a936c97-cddd-4f84-9b19-8701482ffb7e"
   },
   "outputs": [
    {
     "name": "stdout",
     "output_type": "stream",
     "text": [
      "Model: \"model\"\n",
      "_________________________________________________________________\n",
      " Layer (type)                Output Shape              Param #   \n",
      "=================================================================\n",
      " Conv2D1 (Conv2D)            (None, 16, 16, 8)         80        \n",
      "                                                                 \n",
      " stage1_BlockC (Functional)  (None, 8, 8, 8)           224       \n",
      "                                                                 \n",
      " stage2 (Sequential)         (None, 4, 4, 16)          1968      \n",
      "                                                                 \n",
      " stage3 (Sequential)         (None, 2, 2, 24)          4512      \n",
      "                                                                 \n",
      " post_block2_blockB (Functio  (None, 2, 2, 32)         3248      \n",
      " nal)                                                            \n",
      "                                                                 \n",
      " predictor (Sequential)      (None, 1)                 16641     \n",
      "                                                                 \n",
      "=================================================================\n",
      "Total params: 26,673\n",
      "Trainable params: 26,673\n",
      "Non-trainable params: 0\n",
      "_________________________________________________________________\n"
     ]
    }
   ],
   "source": [
    "# creating all ingredients of model\n",
    "\n",
    "# pre processing will be apply by datagenerator on fly\n",
    "\n",
    "Conv2D1 = tf.keras.layers.Conv2D(filters=8, kernel_size = (3,3), strides=(2, 2),\n",
    "                                 padding='same', input_shape=(32,32,1), name = 'Conv2D1')\n",
    "\n",
    "stage1 = BlockC(input_shape=(16,16,8), exp=1, ch_out=8, name='stage1_BlockC')\n",
    "\n",
    "\n",
    "stage2 = tf.keras.models.Sequential(\n",
    "            [\n",
    "                BlockC(input_shape=(8,8,8), exp=2, ch_out=16, name='stage2_BlockC'),\n",
    "                BlockA(input_shape=(4,4,16), exp=2, ch_out=16, name='stage2_BlockA')\n",
    "            ] , name = 'stage2'    )\n",
    "\n",
    "\n",
    "stage3 = tf.keras.models.Sequential(\n",
    "            [\n",
    "                BlockC(input_shape=(4,4,16), exp=2, ch_out=24, name='stage3_BlockC'),\n",
    "                BlockA(input_shape=(2,2,24), exp=2, ch_out=24, name='stage3_BlockA')\n",
    "            ] , name ='stage3'     ) \n",
    "\n",
    "\n",
    "post_block2 = BlockB(input_shape=(2,2,24), exp=2, ch_out=32, name='post_block2_blockB')\n",
    "\n",
    "\n",
    "predictor = tf.keras.models.Sequential(\n",
    "                [\n",
    "                    tf.keras.layers.Flatten(),\n",
    "                    tf.keras.layers.Dropout(0.2),\n",
    "                    tf.keras.layers.Dense(128, activation='relu'),\n",
    "                    tf.keras.layers.Dense(1, activation = 'sigmoid')\n",
    "                ] , name = 'predictor'   )\n",
    "\n",
    "\n",
    "# gather together all components:\n",
    "model =   tf.keras.models.Sequential(\n",
    "                [\n",
    "                    Conv2D1,\n",
    "                    stage1,\n",
    "                    stage2,\n",
    "                    stage3,\n",
    "                    post_block2,\n",
    "                    predictor\n",
    "                ] , name = 'model' )\n",
    "model.summary()"
   ]
  },
  {
   "cell_type": "code",
   "execution_count": 68,
   "metadata": {
    "colab": {
     "base_uri": "https://localhost:8080/",
     "height": 754
    },
    "id": "HqaciCSLntS-",
    "outputId": "254bc2ef-c7f8-4b77-c93d-97cd3e34c1ee"
   },
   "outputs": [
    {
     "data": {
      "image/png": "[encoded data removed]",
      "text/plain": [
       "<IPython.core.display.Image object>"
      ]
     },
     "execution_count": 68,
     "metadata": {},
     "output_type": "execute_result"
    }
   ],
   "source": [
    "tf.keras.utils.plot_model(model, \"model_with_shape_info.png\", show_shapes=True)\n"
   ]
  },
  {
   "cell_type": "markdown",
   "metadata": {
    "id": "Ebs0jvhHq8nb"
   },
   "source": [
    "# compile and train model"
   ]
  },
  {
   "cell_type": "code",
   "execution_count": 69,
   "metadata": {
    "id": "kMf81Zwkqm0j"
   },
   "outputs": [],
   "source": [
    "# compile model\n",
    "model.compile(optimizer = tf.keras.optimizers.Adam(learning_rate=0.0002),\n",
    "                loss='binary_crossentropy',\n",
    "                metrics=['accuracy'])"
   ]
  },
  {
   "cell_type": "code",
   "execution_count": 70,
   "metadata": {
    "colab": {
     "base_uri": "https://localhost:8080/"
    },
    "id": "N0OZQJUcqu5a",
    "outputId": "13f1e08b-18e0-43c7-9018-4760484a0e6d"
   },
   "outputs": [
    {
     "name": "stdout",
     "output_type": "stream",
     "text": [
      "Epoch 1/50\n",
      "313/313 [==============================] - 8s 23ms/step - loss: 0.4881 - accuracy: 0.8333 - val_loss: 0.9547 - val_accuracy: 0.5000\n",
      "Epoch 2/50\n",
      "313/313 [==============================] - 7s 22ms/step - loss: 0.2609 - accuracy: 0.8977 - val_loss: 0.1794 - val_accuracy: 0.9217\n",
      "Epoch 3/50\n",
      "313/313 [==============================] - 7s 22ms/step - loss: 0.0269 - accuracy: 0.9920 - val_loss: 0.1330 - val_accuracy: 0.9506\n",
      "Epoch 4/50\n",
      "313/313 [==============================] - 7s 24ms/step - loss: 0.0186 - accuracy: 0.9944 - val_loss: 0.1612 - val_accuracy: 0.9434\n",
      "Epoch 5/50\n",
      "313/313 [==============================] - 7s 22ms/step - loss: 0.0154 - accuracy: 0.9949 - val_loss: 0.0709 - val_accuracy: 0.9747\n",
      "Epoch 6/50\n",
      "313/313 [==============================] - 7s 22ms/step - loss: 0.0124 - accuracy: 0.9964 - val_loss: 0.0830 - val_accuracy: 0.9687\n",
      "Epoch 7/50\n",
      "313/313 [==============================] - 7s 22ms/step - loss: 0.0103 - accuracy: 0.9968 - val_loss: 0.2090 - val_accuracy: 0.9337\n",
      "Epoch 8/50\n",
      "313/313 [==============================] - 7s 22ms/step - loss: 0.0093 - accuracy: 0.9971 - val_loss: 0.1158 - val_accuracy: 0.9530\n",
      "Epoch 9/50\n",
      "313/313 [==============================] - 7s 22ms/step - loss: 0.0083 - accuracy: 0.9974 - val_loss: 0.0769 - val_accuracy: 0.9699\n",
      "Epoch 10/50\n",
      "313/313 [==============================] - 7s 22ms/step - loss: 0.0073 - accuracy: 0.9976 - val_loss: 0.0311 - val_accuracy: 0.9928\n",
      "Epoch 11/50\n",
      "313/313 [==============================] - 7s 24ms/step - loss: 0.0064 - accuracy: 0.9978 - val_loss: 0.1509 - val_accuracy: 0.9446\n",
      "Epoch 12/50\n",
      "313/313 [==============================] - 7s 22ms/step - loss: 0.0056 - accuracy: 0.9981 - val_loss: 0.0374 - val_accuracy: 0.9831\n",
      "Epoch 13/50\n",
      "313/313 [==============================] - 8s 26ms/step - loss: 0.0049 - accuracy: 0.9981 - val_loss: 0.1925 - val_accuracy: 0.9494\n",
      "Epoch 14/50\n",
      "313/313 [==============================] - 7s 22ms/step - loss: 0.0042 - accuracy: 0.9986 - val_loss: 0.0705 - val_accuracy: 0.9711\n",
      "Epoch 15/50\n",
      "313/313 [==============================] - 7s 22ms/step - loss: 0.0042 - accuracy: 0.9987 - val_loss: 0.0801 - val_accuracy: 0.9663\n",
      "Epoch 16/50\n",
      "313/313 [==============================] - 7s 22ms/step - loss: 0.0034 - accuracy: 0.9989 - val_loss: 0.0344 - val_accuracy: 0.9855\n",
      "Epoch 17/50\n",
      "313/313 [==============================] - 7s 22ms/step - loss: 0.0030 - accuracy: 0.9988 - val_loss: 0.0772 - val_accuracy: 0.9663\n",
      "Epoch 18/50\n",
      "313/313 [==============================] - 7s 22ms/step - loss: 0.0026 - accuracy: 0.9989 - val_loss: 0.1916 - val_accuracy: 0.9506\n",
      "Epoch 19/50\n",
      "313/313 [==============================] - 7s 22ms/step - loss: 0.0026 - accuracy: 0.9990 - val_loss: 0.0204 - val_accuracy: 0.9952\n",
      "Epoch 20/50\n",
      "313/313 [==============================] - 7s 24ms/step - loss: 0.0025 - accuracy: 0.9991 - val_loss: 0.0604 - val_accuracy: 0.9783\n",
      "Epoch 21/50\n",
      "313/313 [==============================] - 7s 22ms/step - loss: 0.0022 - accuracy: 0.9993 - val_loss: 0.0543 - val_accuracy: 0.9783\n",
      "Epoch 22/50\n",
      "313/313 [==============================] - 7s 22ms/step - loss: 0.0016 - accuracy: 0.9994 - val_loss: 0.0474 - val_accuracy: 0.9795\n",
      "Epoch 23/50\n",
      "313/313 [==============================] - 7s 22ms/step - loss: 0.0020 - accuracy: 0.9992 - val_loss: 0.1807 - val_accuracy: 0.9494\n",
      "Epoch 24/50\n",
      "313/313 [==============================] - 7s 22ms/step - loss: 0.0015 - accuracy: 0.9995 - val_loss: 0.2041 - val_accuracy: 0.9482\n",
      "Epoch 25/50\n",
      "313/313 [==============================] - 7s 22ms/step - loss: 0.0012 - accuracy: 0.9996 - val_loss: 0.0411 - val_accuracy: 0.9831\n",
      "Epoch 26/50\n",
      "313/313 [==============================] - 7s 22ms/step - loss: 0.0018 - accuracy: 0.9994 - val_loss: 0.0398 - val_accuracy: 0.9880\n",
      "Epoch 27/50\n",
      "313/313 [==============================] - 7s 22ms/step - loss: 7.9732e-04 - accuracy: 0.9998 - val_loss: 0.0476 - val_accuracy: 0.9867\n",
      "Epoch 28/50\n",
      "313/313 [==============================] - 7s 23ms/step - loss: 8.9611e-04 - accuracy: 0.9997 - val_loss: 0.1042 - val_accuracy: 0.9663\n",
      "Epoch 29/50\n",
      "313/313 [==============================] - 7s 22ms/step - loss: 8.2866e-04 - accuracy: 0.9996 - val_loss: 0.0842 - val_accuracy: 0.9783\n",
      "Epoch 30/50\n",
      "313/313 [==============================] - 7s 22ms/step - loss: 6.8677e-04 - accuracy: 0.9998 - val_loss: 0.0923 - val_accuracy: 0.9723\n",
      "Epoch 31/50\n",
      "313/313 [==============================] - 7s 22ms/step - loss: 6.0862e-04 - accuracy: 0.9998 - val_loss: 0.0569 - val_accuracy: 0.9867\n",
      "Epoch 32/50\n",
      "313/313 [==============================] - 7s 22ms/step - loss: 5.1826e-04 - accuracy: 0.9999 - val_loss: 0.3167 - val_accuracy: 0.9434\n",
      "Epoch 33/50\n",
      "313/313 [==============================] - 7s 22ms/step - loss: 0.0018 - accuracy: 0.9992 - val_loss: 0.0587 - val_accuracy: 0.9843\n",
      "Epoch 34/50\n",
      "313/313 [==============================] - 7s 22ms/step - loss: 0.0012 - accuracy: 0.9997 - val_loss: 0.1046 - val_accuracy: 0.9735\n",
      "Epoch 35/50\n",
      "313/313 [==============================] - 7s 22ms/step - loss: 5.2075e-04 - accuracy: 0.9998 - val_loss: 0.1287 - val_accuracy: 0.9675\n",
      "Epoch 36/50\n",
      "313/313 [==============================] - 7s 22ms/step - loss: 3.5456e-04 - accuracy: 0.9999 - val_loss: 0.0327 - val_accuracy: 0.9916\n",
      "Epoch 37/50\n",
      "313/313 [==============================] - 7s 22ms/step - loss: 3.1625e-04 - accuracy: 0.9999 - val_loss: 0.1043 - val_accuracy: 0.9747\n",
      "Epoch 38/50\n",
      "313/313 [==============================] - 7s 23ms/step - loss: 3.3068e-04 - accuracy: 0.9999 - val_loss: 0.0547 - val_accuracy: 0.9855\n",
      "Epoch 39/50\n",
      "313/313 [==============================] - 7s 22ms/step - loss: 3.4856e-04 - accuracy: 0.9999 - val_loss: 0.0430 - val_accuracy: 0.9904\n",
      "Epoch 40/50\n",
      "313/313 [==============================] - 7s 22ms/step - loss: 2.9460e-04 - accuracy: 0.9999 - val_loss: 0.0597 - val_accuracy: 0.9880\n",
      "Epoch 41/50\n",
      "313/313 [==============================] - 7s 22ms/step - loss: 2.6567e-04 - accuracy: 0.9999 - val_loss: 0.1107 - val_accuracy: 0.9771\n",
      "Epoch 42/50\n",
      "313/313 [==============================] - 7s 23ms/step - loss: 2.8417e-04 - accuracy: 0.9999 - val_loss: 0.0945 - val_accuracy: 0.9783\n",
      "Epoch 43/50\n",
      "313/313 [==============================] - 7s 23ms/step - loss: 3.3669e-04 - accuracy: 0.9999 - val_loss: 0.2526 - val_accuracy: 0.9627\n",
      "Epoch 44/50\n",
      "313/313 [==============================] - 7s 22ms/step - loss: 5.9961e-04 - accuracy: 0.9998 - val_loss: 0.0891 - val_accuracy: 0.9819\n",
      "Epoch 45/50\n",
      "313/313 [==============================] - 7s 22ms/step - loss: 0.0014 - accuracy: 0.9996 - val_loss: 0.0346 - val_accuracy: 0.9952\n",
      "Epoch 46/50\n",
      "313/313 [==============================] - 7s 22ms/step - loss: 9.6307e-04 - accuracy: 0.9996 - val_loss: 0.1260 - val_accuracy: 0.9735\n",
      "Epoch 47/50\n",
      "313/313 [==============================] - 7s 22ms/step - loss: 2.3272e-04 - accuracy: 0.9999 - val_loss: 0.0973 - val_accuracy: 0.9771\n",
      "Epoch 48/50\n",
      "313/313 [==============================] - 7s 22ms/step - loss: 2.0186e-04 - accuracy: 0.9999 - val_loss: 0.1849 - val_accuracy: 0.9711\n",
      "Epoch 49/50\n",
      "313/313 [==============================] - 7s 24ms/step - loss: 2.0227e-04 - accuracy: 0.9999 - val_loss: 0.0927 - val_accuracy: 0.9783\n",
      "Epoch 50/50\n",
      "313/313 [==============================] - 7s 22ms/step - loss: 2.3792e-04 - accuracy: 0.9999 - val_loss: 0.1126 - val_accuracy: 0.9783\n"
     ]
    }
   ],
   "source": [
    "# Train the model\n",
    "EPOCHS = 50\n",
    "history = model.fit(train_generator,\n",
    "                    epochs=EPOCHS,\n",
    "                    verbose=1,\n",
    "                    validation_data=valid_generator)"
   ]
  },
  {
   "cell_type": "markdown",
   "metadata": {
    "id": "aTYaPCckrHt0"
   },
   "source": [
    "# plotting accuracy and loss for model"
   ]
  },
  {
   "cell_type": "code",
   "execution_count": 71,
   "metadata": {
    "colab": {
     "base_uri": "https://localhost:8080/",
     "height": 545
    },
    "id": "gGxjpLeMqwFW",
    "outputId": "8a866b22-6242-4655-95f9-8e8eb4abbcc4"
   },
   "outputs": [
    {
     "data": {
      "image/png": "[encoded data removed]",
      "text/plain": [
       "<Figure size 432x288 with 1 Axes>"
      ]
     },
     "metadata": {
      "needs_background": "light"
     },
     "output_type": "display_data"
    },
    {
     "data": {
      "image/png": "[encoded data removed]",
      "text/plain": [
       "<Figure size 432x288 with 1 Axes>"
      ]
     },
     "metadata": {
      "needs_background": "light"
     },
     "output_type": "display_data"
    }
   ],
   "source": [
    "# plotting accuracy and loss for model\n",
    "\n",
    "#-----------------------------------------------------------\n",
    "# Retrieve a list of list results on training and test data\n",
    "# sets for each training epoch\n",
    "#-----------------------------------------------------------\n",
    "acc     = history.history['accuracy']\n",
    "val_acc = history.history['val_accuracy']\n",
    "loss    = history.history['loss']\n",
    "val_loss= history.history['val_loss']\n",
    "\n",
    "epochs  = range(len(acc)) # Get number of epochs\n",
    "\n",
    "#------------------------------------------------\n",
    "# Plot training and validation accuracy per epoch\n",
    "#------------------------------------------------\n",
    "plt.plot(epochs, acc, 'r', label= \"Training Accuracy\")\n",
    "plt.plot(epochs, val_acc, 'b', label= \"Validation Accuracy\")\n",
    "plt.title('training and validation accuracy per epoch')\n",
    "plt.legend()\n",
    "plt.show()\n",
    "\n",
    "\n",
    "#------------------------------------------------\n",
    "# Plot training and validation loss per epoch\n",
    "#------------------------------------------------\n",
    "plt.plot(epochs, loss, 'r', label = \"Training Loss\")\n",
    "plt.plot(epochs, val_loss, 'b', label = \"Validation Loss\")\n",
    "plt.title('training and validation loss per epoch')\n",
    "plt.legend()\n",
    "plt.show()"
   ]
  },
  {
   "cell_type": "markdown",
   "metadata": {
    "id": "vpn7sReKrnP9"
   },
   "source": [
    "# saving model "
   ]
  },
  {
   "cell_type": "code",
   "execution_count": 72,
   "metadata": {
    "colab": {
     "base_uri": "https://localhost:8080/"
    },
    "id": "zF3nbU2kqwH-",
    "outputId": "98f1c25a-50eb-4f16-a554-987d485d404c"
   },
   "outputs": [
    {
     "name": "stderr",
     "output_type": "stream",
     "text": [
      "WARNING:absl:Function `_wrapped_model` contains input name(s) Conv2D1_input with unsupported characters which will be renamed to conv2d1_input in the SavedModel.\n"
     ]
    },
    {
     "name": "stdout",
     "output_type": "stream",
     "text": [
      "INFO:tensorflow:Assets written to: /content/model/model_50epocks/assets\n"
     ]
    },
    {
     "name": "stderr",
     "output_type": "stream",
     "text": [
      "INFO:tensorflow:Assets written to: /content/model/model_50epocks/assets\n"
     ]
    }
   ],
   "source": [
    "if os.path.exists(MODEL_DIR)==False:\n",
    "    os.makedirs(MODEL_DIR)\n",
    "\n",
    "# for naming based on current time:\n",
    "#timestr = time.strftime(\"%Y_%m_%d__%H_%M_%S\")\n",
    "model_name_adrs = os.path.join(MODEL_DIR, f\"model_{EPOCHS}epocks\")\n",
    "\n",
    "model.save(model_name_adrs)"
   ]
  },
  {
   "cell_type": "code",
   "execution_count": 85,
   "metadata": {
    "colab": {
     "base_uri": "https://localhost:8080/",
     "height": 138
    },
    "id": "4GqHzAbAveIn",
    "outputId": "016caad4-19e2-4517-8271-27d9a1927b6d"
   },
   "outputs": [
    {
     "name": "stdout",
     "output_type": "stream",
     "text": [
      "updating: content/model/model_50epocks/ (stored 0%)\n",
      "updating: content/model/model_50epocks/assets/ (stored 0%)\n",
      "updating: content/model/model_50epocks/keras_metadata.pb (deflated 96%)\n",
      "updating: content/model/model_50epocks/saved_model.pb (deflated 90%)\n",
      "updating: content/model/model_50epocks/variables/ (stored 0%)\n",
      "updating: content/model/model_50epocks/variables/variables.index (deflated 75%)\n",
      "updating: content/model/model_50epocks/variables/variables.data-00000-of-00001 (deflated 16%)\n"
     ]
    },
    {
     "data": {
      "application/javascript": [
       "\n",
       "    async function download(id, filename, size) {\n",
       "      if (!google.colab.kernel.accessAllowed) {\n",
       "        return;\n",
       "      }\n",
       "      const div = document.createElement('div');\n",
       "      const label = document.createElement('label');\n",
       "      label.textContent = `Downloading \"${filename}\": `;\n",
       "      div.appendChild(label);\n",
       "      const progress = document.createElement('progress');\n",
       "      progress.max = size;\n",
       "      div.appendChild(progress);\n",
       "      document.body.appendChild(div);\n",
       "\n",
       "      const buffers = [];\n",
       "      let downloaded = 0;\n",
       "\n",
       "      const channel = await google.colab.kernel.comms.open(id);\n",
       "      // Send a message to notify the kernel that we're ready.\n",
       "      channel.send({})\n",
       "\n",
       "      for await (const message of channel.messages) {\n",
       "        // Send a message to notify the kernel that we're ready.\n",
       "        channel.send({})\n",
       "        if (message.buffers) {\n",
       "          for (const buffer of message.buffers) {\n",
       "            buffers.push(buffer);\n",
       "            downloaded += buffer.byteLength;\n",
       "            progress.value = downloaded;\n",
       "          }\n",
       "        }\n",
       "      }\n",
       "      const blob = new Blob(buffers, {type: 'application/binary'});\n",
       "      const a = document.createElement('a');\n",
       "      a.href = window.URL.createObjectURL(blob);\n",
       "      a.download = filename;\n",
       "      div.appendChild(a);\n",
       "      a.click();\n",
       "      div.remove();\n",
       "    }\n",
       "  "
      ],
      "text/plain": [
       "<IPython.core.display.Javascript object>"
      ]
     },
     "metadata": {},
     "output_type": "display_data"
    },
    {
     "data": {
      "application/javascript": [
       "download(\"download_53205553-7750-4623-b4d9-687c914d6d36\", \"model_50epocks.zip\", 397039)"
      ],
      "text/plain": [
       "<IPython.core.display.Javascript object>"
      ]
     },
     "metadata": {},
     "output_type": "display_data"
    }
   ],
   "source": [
    "# download model\n",
    "!zip -r /content/model/model_50epocks.zip  /content/model/model_50epocks \n",
    "from google.colab import files\n",
    "files.download('/content/model/model_50epocks.zip')\n"
   ]
  },
  {
   "cell_type": "code",
   "execution_count": null,
   "metadata": {
    "id": "_zRFMyMXqwKV"
   },
   "outputs": [],
   "source": [
    "# loading model (for test)\n",
    "loaded_model = tf.keras.models.load_model(model_name_adrs)\n",
    "loaded_model.summary()"
   ]
  },
  {
   "cell_type": "code",
   "execution_count": null,
   "metadata": {
    "id": "RiCKkVAUqwM-"
   },
   "outputs": [],
   "source": []
  },
  {
   "cell_type": "markdown",
   "metadata": {
    "id": "KE_no1X5xguQ"
   },
   "source": [
    "# calculation EER"
   ]
  },
  {
   "cell_type": "code",
   "execution_count": 73,
   "metadata": {
    "id": "dEka0QDwyrya"
   },
   "outputs": [],
   "source": [
    "# equal error rate (EER) and receiver operating characteristic (ROC) curve\n",
    "\n",
    "def compute_eer(fpr,tpr,thre):\n",
    "    \"\"\" Returns equal error rate (EER) and the corresponding threshold. \n",
    "    Args:  fpr : false possitive rate\n",
    "           tpr : true possitive rate\n",
    "           thre: threshold\n",
    "    Return:eer : equal error rate\n",
    "           thre: threshold\n",
    "    \"\"\"\n",
    "    \n",
    "    fnr = 1 - tpr\n",
    "    abs_diffs = np.abs(fpr - fnr)\n",
    "    min_index = np.argmin(abs_diffs)\n",
    "    eer = np.mean((fpr[min_index], fnr[min_index]))\n",
    "    return eer, thre[min_index]\n"
   ]
  },
  {
   "cell_type": "code",
   "execution_count": 74,
   "metadata": {
    "colab": {
     "base_uri": "https://localhost:8080/"
    },
    "id": "n0odetOsLNZs",
    "outputId": "ac604554-eab5-424e-c3a8-ce93d4822f2f"
   },
   "outputs": [
    {
     "name": "stdout",
     "output_type": "stream",
     "text": [
      "label shape and type are:  (830,) <class 'numpy.ndarray'>\n",
      "preds shape and type are:  (830,) <class 'numpy.ndarray'>\n"
     ]
    }
   ],
   "source": [
    "# getting label and model result on validation set:\n",
    "\n",
    "# data_generator without fit has no option to stop! so we shuld do it manually:\n",
    "#        (lenth of validation set / batch size)\n",
    "# you can see this numbers when datagenerator is created\n",
    "\n",
    "val_len = round(830/64)\n",
    "y_val_label=[]\n",
    "y_val_preds = []\n",
    "for i in range(val_len):\n",
    "    img_y, label_y = next(valid_generator)\n",
    "    \n",
    "    for lb in label_y:\n",
    "        y_val_label.append(lb)\n",
    "    for im in img_y:\n",
    "      im_b = np.expand_dims(im, axis=0) # adding one dim\n",
    "      y_val_preds.append((model(im_b)[0,0]))\n",
    "\n",
    "\n",
    "y_val_label = np.array(y_val_label)\n",
    "y_val_preds = np.array(y_val_preds)\n",
    "\n",
    "print('label shape and type are: ', y_val_label.shape, type(y_val_label))\n",
    "print('preds shape and type are: ', y_val_preds.shape, type(y_val_preds))\n",
    "\n",
    "#print(y_val_label)"
   ]
  },
  {
   "cell_type": "code",
   "execution_count": 75,
   "metadata": {
    "colab": {
     "base_uri": "https://localhost:8080/",
     "height": 339
    },
    "id": "zTFjDS-fy5FN",
    "outputId": "2a6bed9c-ea54-4bd9-e3a1-13f75a301984"
   },
   "outputs": [
    {
     "name": "stdout",
     "output_type": "stream",
     "text": [
      "EER is:  0.0036\n"
     ]
    },
    {
     "data": {
      "text/plain": [
       "Text(0, 0.5, 'True positive rate')"
      ]
     },
     "execution_count": 75,
     "metadata": {},
     "output_type": "execute_result"
    },
    {
     "data": {
      "image/png": "[encoded data removed]",
      "text/plain": [
       "<Figure size 432x288 with 1 Axes>"
      ]
     },
     "metadata": {
      "needs_background": "light"
     },
     "output_type": "display_data"
    }
   ],
   "source": [
    "\n",
    "# calculating fpr and tpr by sklearn \n",
    "fpr, tpr, thre = metrics.roc_curve(y_val_label, y_val_preds)\n",
    "\n",
    "eer, thre = compute_eer(fpr,tpr,thre)\n",
    "print('EER is: ', round(eer,4))\n",
    "\n",
    "plt.plot(fpr, tpr)\n",
    "plt.title('ROC', fontsize=20)\n",
    "plt.xlabel('False positive rate',fontsize=14 )\n",
    "plt.ylabel('True positive rate', fontsize=14)"
   ]
  },
  {
   "cell_type": "code",
   "execution_count": null,
   "metadata": {
    "id": "IOk88p65TqsU"
   },
   "outputs": [],
   "source": []
  },
  {
   "cell_type": "code",
   "execution_count": null,
   "metadata": {
    "id": "i9_7xYSiy5xm"
   },
   "outputs": [],
   "source": []
  },
  {
   "cell_type": "markdown",
   "metadata": {
    "id": "X3Y9pFNIBAtj"
   },
   "source": [
    "# class for interface"
   ]
  },
  {
   "cell_type": "code",
   "execution_count": null,
   "metadata": {
    "id": "wQcfIYHZBNG4"
   },
   "outputs": [],
   "source": [
    "# at first lets create some data for test\n",
    "if os.path.exists(SAMPLES_DIR) == False:\n",
    "    os.makedirs(SAMPLES_DIR)\n",
    "imgs_adrs = [os.path.join(valid_alp,im) for im in os.listdir(valid_alp) ]\n",
    "samples= []\n",
    "for i in range(10):\n",
    "    img = tf.keras.preprocessing.image.load_img(imgs_adrs[i])\n",
    "    img_arr = tf.keras.preprocessing.image.img_to_array(img)\n",
    "    samples.append(img_arr)"
   ]
  },
  {
   "cell_type": "code",
   "execution_count": null,
   "metadata": {
    "id": "Okr4IEiJAveA"
   },
   "outputs": [],
   "source": [
    "# importing necessary modules _________________________________________________________________\n",
    "\n",
    "import os\n",
    "import time\n",
    "import numpy as np\n",
    "import pandas as pd\n",
    "import tensorflow as tf\n",
    "import matplotlib.pyplot as plt\n",
    "\n",
    "# class definitaion____________________________________________________________________________\n",
    "class InferenceClass():\n",
    "    \"\"\"\n",
    "    this class get directory address of model and images list\n",
    "    then load model and inference on input batch to predict class probabilities\n",
    "    Args:\n",
    "        model_dir: adsress of directory contains model\n",
    "        \n",
    "    it has a getScore function that can inference on images:\n",
    "    Args: \n",
    "        imgs : list of rgb array images or directory contains images\n",
    "    Returns:\n",
    "        cls_pro: class probabilities (batch,2)\n",
    "    \"\"\"\n",
    "    \n",
    "    def __init__(self, model_dir):\n",
    "        # load model\n",
    "        self.model = tf.keras.models.load_model(model_dir)\n",
    "        print(f\"model from {model_dir} directory loaded seccessfully\")\n",
    "        \n",
    "    def getScore(self,imgs):\n",
    "        \"\"\"\n",
    "        geting imags array list and calculate probabilities of classes for all images in batch\n",
    "        for more generality if imgs is a directory,or one image address it converted to list of\n",
    "        array images. also for pre-processing we apply :\n",
    "                grayscale: (a,b,3) -> (a,b,1)\n",
    "                rescale: [0,255] -> [0,1]\n",
    "                reshape: (a,b) -> (32,32)\n",
    "        in order to make image ready for inferencing by model.\n",
    "        \n",
    "        Args:\n",
    "                imgs: list of image array (one image address or directory also is acceptable)\n",
    "        Returns:\n",
    "                class probabilities \n",
    "        \n",
    "        \"\"\"\n",
    "        # first assume: imgs itself is list of array images __________________________________\n",
    "        img_arr_list = imgs\n",
    "        \n",
    "        #anyway, if imgs is not a list of arr then we chek is it a directory or img address\n",
    "        if (type(imgs)== str) :     # imgs is image adress or directory\n",
    "            if os.path.isdir(imgs): # imgs is a directory:\n",
    "                img_dir = imgs\n",
    "                img_adrs_list = [os.path.join(img_dir, name) for name in os.listdir(img_dir)]\n",
    "                \n",
    "                img_arr_list=[]\n",
    "                for img_adrs in img_adrs_list:\n",
    "                    img = tf.keras.preprocessing.image.load_img(img_adrs)\n",
    "                    img_arr = tf.keras.preprocessing.image.img_to_array(img)\n",
    "                    img_arr_list.append(img_arr)\n",
    "            \n",
    "            else:                   # imgs is an image address\n",
    "                image_adrs = imgs\n",
    "                img = tf.keras.preprocessing.image.load_img(image_adrs)\n",
    "                img_arr = tf.keras.preprocessing.image.img_to_array(img)\n",
    "                img_arr_list=[img_arr]\n",
    "                \n",
    "        # pre process image and make it ready for prediction ________________________________\n",
    "        \n",
    "        pre_img_list = [] # list of pre processed array images \n",
    "        for img_arr in img_arr_list:\n",
    "            \n",
    "            img_gry = tf.image.rgb_to_grayscale(img_arr)\n",
    "            \n",
    "            # resizing image into input shape of model\n",
    "            img_res = tf.image.resize(img_gry, size=(32,32))\n",
    "        \n",
    "            # rescale to [0,1]\n",
    "            img_max = tf.math.reduce_max(img_res)\n",
    "            img_pre = tf.keras.layers.Rescaling(1./img_max)(img_res)\n",
    "        \n",
    "            # adding new preprocessed image to new pre_img_list\n",
    "            pre_img_list.append(img_pre)\n",
    "            \n",
    "        # convert list to array \n",
    "        pre_imgs = np.array(pre_img_list)\n",
    "        \n",
    "        # batch interface\n",
    "        pred = self.model.predict_on_batch(pre_imgs)\n",
    "        \n",
    "        q_list=[] # list of other class probabilities\n",
    "        for p in pred:\n",
    "            q_list.append(1-p)\n",
    "        q_arr = np.array(q_list)\n",
    "        \n",
    "        # probabilites of both class in array(batch,2) as task wanted \n",
    "        cls_prob = np.concatenate((pred, q_arr), axis=1)\n",
    "        \n",
    "        return cls_prob\n",
    "    \n",
    "# if this code run as a main script ______________________________________________________________\n",
    "if __name__ == \"__main__\":\n",
    "    \"\"\"\n",
    "    this part of code,  get model name(from models are availbel in model directory)\n",
    "    and imge list or directory, then instantiate class, predict on samples and print\n",
    "    probabilities.Also you can see time of loading and running\n",
    "    \n",
    "    if you have another model, assign it to model_dir in input of class\n",
    "    if you have another images, assign it to imgs in getScore method \n",
    "    \n",
    "    \"\"\"\n",
    "    # directory addresses\n",
    "    CURRENT_DIR= os.getcwd()\n",
    "    MODEL_DIR  = os.path.join(CURRENT_DIR, 'model')\n",
    "    MODEL_NAME = \"model_aug_50epocks_at_2022_05_27__04_31_55\"\n",
    "    MODEL_PATH = os.path.join(MODEL_DIR,MODEL_NAME )\n",
    "    #IMG_DIR    = os.path.join(CURRENT_DIR, imgs)\n",
    "    SHOW_TIME  = True # if you want to see time of load and running model, turn it on!\n",
    "    \n",
    "    # instantiate InferenceClass (loading model and creating getScore method)\n",
    "    t0 = time.time()\n",
    "    infr_cls = InferenceClass(model_dir = MODEL_PATH)\n",
    "    model_load_time = time.time() - t0\n",
    "    \n",
    "\n",
    "    # predict on batch by getScore method\n",
    "    t0 = time.time()\n",
    "    cls_prob = infr_cls.getScore(imgs=samples)\n",
    "    model_run_time =  time.time() - t0\n",
    "    \n",
    "    # show result\n",
    "    cls_prob_pd = pd.DataFrame(cls_prob)\n",
    "    cls_prob_pd.columns = ['number_prob','alphabet_prob']\n",
    "    print('\\n calss probabilites are:\\n ')\n",
    "    print(cls_prob_pd)\n",
    "    \n",
    "    # show time\n",
    "    if SHOW_TIME:\n",
    "        print(f\"\\n model loaded in {round(model_load_time,2) } sec\")\n",
    "        print(f\"\\n model run on sample in {round(model_run_time*1000,1)} ms\")"
   ]
  },
  {
   "cell_type": "code",
   "execution_count": null,
   "metadata": {
    "id": "gby1scFJFw67"
   },
   "outputs": [],
   "source": []
  },
  {
   "cell_type": "code",
   "execution_count": null,
   "metadata": {
    "id": "AxKSCApgFxwH"
   },
   "outputs": [],
   "source": []
  },
  {
   "cell_type": "code",
   "execution_count": null,
   "metadata": {
    "id": "peNsHoxJGjxW"
   },
   "outputs": [],
   "source": []
  },
  {
   "cell_type": "code",
   "execution_count": null,
   "metadata": {
    "id": "nfZ1tTMtJLKo"
   },
   "outputs": [],
   "source": []
  }
 ],
 "metadata": {
  "accelerator": "GPU",
  "colab": {
   "collapsed_sections": [],
   "name": "RZ_GATA_TASK1.ipynb",
   "provenance": []
  },
  "kernelspec": {
   "display_name": "Python 3",
   "language": "python",
   "name": "python3"
  },
  "language_info": {
   "codemirror_mode": {
    "name": "ipython",
    "version": 3
   },
   "file_extension": ".py",
   "mimetype": "text/x-python",
   "name": "python",
   "nbconvert_exporter": "python",
   "pygments_lexer": "ipython3",
   "version": "3.8.8"
  }
 },
 "nbformat": 4,
 "nbformat_minor": 1
}
